{
 "cells": [
  {
   "cell_type": "code",
   "execution_count": 1,
   "metadata": {},
   "outputs": [],
   "source": [
    "import os\n",
    "import numpy as np\n",
    "import math\n",
    "from annoy import AnnoyIndex\n",
    "from tqdm import tqdm\n",
    "import librosa\n",
    "import pickle"
   ]
  },
  {
   "cell_type": "code",
   "execution_count": 2,
   "metadata": {},
   "outputs": [],
   "source": [
    "def signal_energy(signal):\n",
    "    energy = np.sum(np.square(signal))\n",
    "    return energy"
   ]
  },
  {
   "cell_type": "code",
   "execution_count": 3,
   "metadata": {},
   "outputs": [],
   "source": [
    "# Hàm tính độ biến đổi (variance) của tín hiệu\n",
    "def signal_variance(signal):\n",
    "    mean = np.mean(signal)\n",
    "    variance = np.sum(np.square(signal - mean))\n",
    "    return variance"
   ]
  },
  {
   "cell_type": "code",
   "execution_count": 4,
   "metadata": {},
   "outputs": [],
   "source": [
    "# Hàm tính Zero Crossing Rate (ZCR)\n",
    "def zero_crossing_rate(signal):\n",
    "    zcr = 0\n",
    "    for i in range(1, len(signal)):\n",
    "        if (signal[i-1] >= 0 and signal[i] < 0) or (signal[i-1] < 0 and signal[i] >= 0):\n",
    "            zcr += 1\n",
    "    return zcr / len(signal)"
   ]
  },
  {
   "cell_type": "code",
   "execution_count": 5,
   "metadata": {},
   "outputs": [],
   "source": [
    "# Hàm tính tần số trung bình (Average Frequency)\n",
    "def average_frequency(signal, sample_rate):\n",
    "    fft_result = np.fft.fft(signal)\n",
    "    fft_freqs = np.fft.fftfreq(len(signal), 1/sample_rate)\n",
    "    positive_freqs = fft_freqs[:len(fft_freqs)//2]\n",
    "    amplitudes = np.abs(fft_result[:len(fft_result)//2])\n",
    "    average_freq = np.sum(positive_freqs * amplitudes) / np.sum(amplitudes)\n",
    "    return average_freq"
   ]
  },
  {
   "cell_type": "code",
   "execution_count": 6,
   "metadata": {},
   "outputs": [],
   "source": [
    "def extract_features(target_signal):\n",
    "    \n",
    "    sample_rate = 44100  \n",
    "\n",
    "    # Tính toán các thuộc tính của tín hiệu âm thanh\n",
    "    energy = signal_energy(target_signal)\n",
    "    variance = signal_variance(target_signal)\n",
    "    zcr = zero_crossing_rate(target_signal)\n",
    "    avg_freq = average_frequency(target_signal, sample_rate)  # Cần thay đổi sample_rate cho phù hợp\n",
    "\n",
    "    # Thêm vector đại diện cho file âm thanh vào cây tìm kiếm\n",
    "    feature_vector = [energy, variance, zcr, avg_freq]\n",
    "    return feature_vector"
   ]
  },
  {
   "cell_type": "code",
   "execution_count": 7,
   "metadata": {},
   "outputs": [
    {
     "name": "stderr",
     "output_type": "stream",
     "text": [
      "100%|██████████| 100/100 [04:28<00:00,  2.68s/it]\n"
     ]
    },
    {
     "data": {
      "text/plain": [
       "True"
      ]
     },
     "execution_count": 7,
     "metadata": {},
     "output_type": "execute_result"
    }
   ],
   "source": [
    "database_path = \"./dataset/\"\n",
    "index_path = './index.ann'  # Đường dẫn lưu trữ cây tìm kiếm\n",
    "k = 5  # Số lượng láng giềng cần tìm\n",
    "\n",
    "\n",
    "# Tạo cấu trúc cây tìm kiếm với Annoy\n",
    "feature_dim = 4   # Số chiều của vector đặc trưng (số thuộc tính sử dụng)\n",
    "index = AnnoyIndex(feature_dim, metric='euclidean')\n",
    "\n",
    "features = []\n",
    "songs = []\n",
    "for song in tqdm(os.listdir(database_path)):\n",
    "    song = os.path.join(database_path, song)\n",
    "    y, sr = librosa.load(song, sr=8000)\n",
    "    feat = extract_features(y)\n",
    "    features.append(feat)\n",
    "    songs.append(song)\n",
    "\n",
    "pickle.dump(features, open('features.pk', 'wb'))\n",
    "\n",
    "pickle.dump(songs, open('songs.pk', 'wb'))\n",
    "\n",
    "# Thêm các vector đại diện cho các file âm thanh vào cây tìm kiếm\n",
    "for i in range(len(features)):\n",
    "# Thêm vector đại diện cho file âm thanh vào cây tìm kiếm\n",
    "    v = features[i]\n",
    "    index.add_item(i, v)\n",
    "\n",
    "index.build(100) # 100 trees\n",
    "index.save('music.ann')"
   ]
  },
  {
   "cell_type": "code",
   "execution_count": 8,
   "metadata": {},
   "outputs": [
    {
     "name": "stdout",
     "output_type": "stream",
     "text": [
      "Most similar files:\n",
      " file:///Users/leduo/Desktop/python/dataset/audio100%20%28mp3cut.net%29.wav\n",
      "file:///Users/leduo/Desktop/python/dataset/audio28%20%28mp3cut.net%29.wav\n",
      "file:///Users/leduo/Desktop/python/dataset/audio37%20%28mp3cut.net%29.wav\n",
      "file:///Users/leduo/Desktop/python/dataset/audio21%20%28mp3cut.net%29.wav\n",
      "file:///Users/leduo/Desktop/python/dataset/audio82%20%28mp3cut.net%29.wav\n"
     ]
    }
   ],
   "source": [
    "from urllib.parse import urljoin\n",
    "from urllib.request import pathname2url\n",
    "\n",
    "def path2url(path):\n",
    "    return urljoin('file:',\"Users/leduo/Desktop/python/\"+pathname2url(path))\n",
    "\n",
    "song = os.path.join(\"./New folder\", 'audio100-test.wav')\n",
    "y, sr =  librosa.load(song,sr=8000)\n",
    "featTest = extract_features(y)\n",
    "neighbor_ids = index.get_nns_by_vector(featTest, k)\n",
    "similar_files = []\n",
    "for neighbor_id in neighbor_ids:\n",
    "    similar_files.append(path2url(database_path+os.listdir(database_path)[neighbor_id]))\n",
    "\n",
    "print(\"Most similar files:\\n\", \"\\n\".join(similar_files))"
   ]
  }
 ],
 "metadata": {
  "kernelspec": {
   "display_name": "Python 3",
   "language": "python",
   "name": "python3"
  },
  "language_info": {
   "codemirror_mode": {
    "name": "ipython",
    "version": 3
   },
   "file_extension": ".py",
   "mimetype": "text/x-python",
   "name": "python",
   "nbconvert_exporter": "python",
   "pygments_lexer": "ipython3",
   "version": "3.10.6"
  },
  "orig_nbformat": 4
 },
 "nbformat": 4,
 "nbformat_minor": 2
}
